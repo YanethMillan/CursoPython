{
 "cells": [
  {
   "cell_type": "markdown",
   "metadata": {},
   "source": [
    "## Ejercicio: Uso de funciones en Python"
   ]
  },
  {
   "cell_type": "code",
   "execution_count": 1,
   "metadata": {},
   "outputs": [],
   "source": [
    "def reporte_combustible(primer_tanq, segundo_tanq, tercer_tanq):\n",
    "    total_combustible = (primer_tanq + segundo_tanq + tercer_tanq) / 3\n",
    "    return f\"\"\"Reporte de combustible:\n",
    "    Total de combustible: {total_combustible}%\n",
    "    Primer tanque: {primer_tanq}%\n",
    "    Segundo tanque: {segundo_tanq}%\n",
    "    Tercer tanque: {tercer_tanq}% \n",
    "    \"\"\""
   ]
  },
  {
   "cell_type": "code",
   "execution_count": 2,
   "metadata": {},
   "outputs": [
    {
     "name": "stdout",
     "output_type": "stream",
     "text": [
      "Reporte de combustible:\n",
      "    Total de combustible: 70.0%\n",
      "    Primer tanque: 50%\n",
      "    Segundo tanque: 70%\n",
      "    Tercer tanque: 90% \n",
      "    \n"
     ]
    }
   ],
   "source": [
    "print(reporte_combustible(50, 70, 90))"
   ]
  },
  {
   "cell_type": "code",
   "execution_count": 3,
   "metadata": {},
   "outputs": [
    {
     "data": {
      "text/plain": [
       "70.0"
      ]
     },
     "execution_count": 3,
     "metadata": {},
     "output_type": "execute_result"
    }
   ],
   "source": [
    "def promedio(values):\n",
    "    total = sum(values)\n",
    "    number_of_items = len(values)\n",
    "    return total / number_of_items\n",
    "promedio([50, 70, 90]) \n"
   ]
  },
  {
   "cell_type": "code",
   "execution_count": 4,
   "metadata": {},
   "outputs": [
    {
     "name": "stdout",
     "output_type": "stream",
     "text": [
      "Reporte de combustible:\n",
      "    Total de combustible: 50.0%\n",
      "    Primer tanque: 30%\n",
      "    Segundo tanque: 40%\n",
      "    Tercer tanque: 80% \n",
      "    \n"
     ]
    }
   ],
   "source": [
    "def reporte_combustible(primer_tanq, segundo_tanq, tercer_tanq):\n",
    "    return f\"\"\"Reporte de combustible:\n",
    "    Total de combustible: {promedio([primer_tanq, segundo_tanq, tercer_tanq])}%\n",
    "    Primer tanque: {primer_tanq}%\n",
    "    Segundo tanque: {segundo_tanq}%\n",
    "    Tercer tanque: {tercer_tanq}% \n",
    "    \"\"\"\n",
    "print(reporte_combustible(30, 40, 80))"
   ]
  },
  {
   "cell_type": "markdown",
   "metadata": {},
   "source": [
    "## Ejercicio 2: Trabajo con argumentos de palabra clave"
   ]
  },
  {
   "cell_type": "code",
   "execution_count": 5,
   "metadata": {},
   "outputs": [
    {
     "name": "stdout",
     "output_type": "stream",
     "text": [
      "\n",
      "    Misón a Júpiter\n",
      "    Total de tiempo de viaje: 667000 minutos\n",
      "    Total de combustible: 133 galón\n",
      "    \n"
     ]
    }
   ],
   "source": [
    "def reporte_de_mision(tanq_inter, tanq_exter, destino, hora_prelanzamiento, tiempo_vuelo):\n",
    "    return f\"\"\"\n",
    "    Misón a {destino}\n",
    "    Total de tiempo de viaje: {hora_prelanzamiento + tiempo_vuelo} minutos\n",
    "    Total de combustible: {tanq_inter + tanq_exter} galón\n",
    "    \"\"\"\n",
    "\n",
    "print(reporte_de_mision(53, 80, \"Júpiter\", 7000, 660000))"
   ]
  },
  {
   "cell_type": "code",
   "execution_count": 6,
   "metadata": {},
   "outputs": [
    {
     "name": "stdout",
     "output_type": "stream",
     "text": [
      "\n",
      "    Misón a Júpiter\n",
      "    Total de tiempo de viaje: 116 minutos\n",
      "    Total de combustible: 915000\n",
      "    \n"
     ]
    }
   ],
   "source": [
    "def reporte_de_mision(destino, *minutos, **deposito_combustible):\n",
    "    return f\"\"\"\n",
    "    Misón a {destino}\n",
    "    Total de tiempo de viaje: {sum(minutos)} minutos\n",
    "    Total de combustible: {sum(deposito_combustible.values())}\n",
    "    \"\"\"\n",
    "\n",
    "print(reporte_de_mision(\"Júpiter\", 25, 30, 61, inter=65000, exter=850000))"
   ]
  },
  {
   "cell_type": "code",
   "execution_count": 7,
   "metadata": {},
   "outputs": [
    {
     "name": "stdout",
     "output_type": "stream",
     "text": [
      "\n",
      "    Misón a Júpiter\n",
      "    Total de tiempo de viaje: 84 minutos\n",
      "    Total de combustible: 915000\n",
      "    inter tanque --> 65000 galón left\n",
      "exter tanque --> 850000 galón left\n",
      "\n"
     ]
    }
   ],
   "source": [
    "def reporte_de_mision(destino, *minutos, **deposito_combustible):\n",
    "    repote_principal = f\"\"\"\n",
    "    Misón a {destino}\n",
    "    Total de tiempo de viaje: {sum(minutos)} minutos\n",
    "    Total de combustible: {sum(deposito_combustible.values())}\n",
    "    \"\"\"\n",
    "    for tipo_tanq, galon in deposito_combustible.items():\n",
    "        repote_principal += f\"{tipo_tanq} tanque --> {galon} galón left\\n\"\n",
    "    return repote_principal\n",
    "\n",
    "print(reporte_de_mision(\"Júpiter\", 26, 13, 45, inter=65000, exter=850000))"
   ]
  }
 ],
 "metadata": {
  "interpreter": {
   "hash": "b89b5cfaba6639976dc87ff2fec6d58faec662063367e2c229c520fe71072417"
  },
  "kernelspec": {
   "display_name": "Python 3.10.2 64-bit",
   "language": "python",
   "name": "python3"
  },
  "language_info": {
   "codemirror_mode": {
    "name": "ipython",
    "version": 3
   },
   "file_extension": ".py",
   "mimetype": "text/x-python",
   "name": "python",
   "nbconvert_exporter": "python",
   "pygments_lexer": "ipython3",
   "version": "3.10.2"
  },
  "orig_nbformat": 4
 },
 "nbformat": 4,
 "nbformat_minor": 2
}
