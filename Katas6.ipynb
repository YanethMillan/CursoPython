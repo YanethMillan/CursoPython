{
 "cells": [
  {
   "cell_type": "markdown",
   "metadata": {},
   "source": [
    "## Ejercicio1: Crear y usar listas de Python"
   ]
  },
  {
   "cell_type": "code",
   "execution_count": 1,
   "metadata": {},
   "outputs": [
    {
     "name": "stdout",
     "output_type": "stream",
     "text": [
      "El primer planeta es Mercurio\n",
      "El segundo planeta es Venus\n",
      "El tercer planeta es Tierra\n",
      "El cuarto planeta es Marte\n",
      "El quinto planeta es Júpiter\n",
      "El sexto planeta es Saturno\n",
      "El séptimo planeta es Urano\n",
      "El octavo planeta es Neptuno\n",
      "Plutón es el último planeta agregado\n",
      "Estos son los 9 planetas en el sistema solar.\n"
     ]
    }
   ],
   "source": [
    "planets = ['Mercurio', 'Venus', 'Tierra', 'Marte', 'Júpiter', 'Saturno', 'Urano', 'Neptuno']\n",
    "planets.append('Plutón')\n",
    "number_of_planets = len(planets)\n",
    "\n",
    "print('El primer planeta es', planets[0])\n",
    "print('El segundo planeta es', planets[1])\n",
    "print('El tercer planeta es', planets[2])\n",
    "print('El cuarto planeta es', planets[3])\n",
    "print('El quinto planeta es', planets[4])\n",
    "print('El sexto planeta es', planets[5])\n",
    "print('El séptimo planeta es', planets[6])\n",
    "print('El octavo planeta es', planets[7])\n",
    "print(planets[-1], 'es el último planeta agregado')\n",
    "print('Estos son los', number_of_planets, 'planetas en el sistema solar.')"
   ]
  },
  {
   "cell_type": "markdown",
   "metadata": {},
   "source": [
    "## Ejercicio 2: Trabajando con datos de una lista"
   ]
  },
  {
   "cell_type": "code",
   "execution_count": 2,
   "metadata": {},
   "outputs": [
    {
     "name": "stdout",
     "output_type": "stream",
     "text": [
      "Los planetas más ceranos al sol que Venus son:\n",
      "['Mercurio']\n",
      "Los planetas más lejanos al sol que Venus son:\n",
      "['Tierra', 'Marte', 'Júpiter', 'Saturno', 'Urano', 'Neptuno']\n"
     ]
    }
   ],
   "source": [
    "planets = ['Mercurio', 'Venus', 'Tierra', 'Marte', 'Júpiter', 'Saturno', 'Urano', 'Neptuno']\n",
    "\n",
    "nombre_planeta = input(\"Ingrese el nombre de un planeta, comenzando con letra mayúscula\")\n",
    "\n",
    "planeta_index = planets.index(nombre_planeta)\n",
    "\n",
    "print('Los planetas más ceranos al sol que ' +  nombre_planeta, 'son:')\n",
    "print(planets[0:planeta_index])\n",
    "\n",
    "print('Los planetas más lejanos al sol que ' +  nombre_planeta, 'son:')\n",
    "print(planets[planeta_index + 1:])\n",
    "\n"
   ]
  }
 ],
 "metadata": {
  "interpreter": {
   "hash": "b89b5cfaba6639976dc87ff2fec6d58faec662063367e2c229c520fe71072417"
  },
  "kernelspec": {
   "display_name": "Python 3.10.2 64-bit",
   "language": "python",
   "name": "python3"
  },
  "language_info": {
   "codemirror_mode": {
    "name": "ipython",
    "version": 3
   },
   "file_extension": ".py",
   "mimetype": "text/x-python",
   "name": "python",
   "nbconvert_exporter": "python",
   "pygments_lexer": "ipython3",
   "version": "3.10.2"
  },
  "orig_nbformat": 4
 },
 "nbformat": 4,
 "nbformat_minor": 2
}
